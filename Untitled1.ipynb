{
  "nbformat": 4,
  "nbformat_minor": 0,
  "metadata": {
    "colab": {
      "name": "Untitled1.ipynb",
      "version": "0.3.2",
      "provenance": []
    },
    "kernelspec": {
      "name": "python3",
      "display_name": "Python 3"
    }
  },
  "cells": [
    {
      "metadata": {
        "id": "-qQ2lkvjafgE",
        "colab_type": "text"
      },
      "cell_type": "markdown",
      "source": [
        "使用format()"
      ]
    },
    {
      "metadata": {
        "id": "s-zBb5MdZXXN",
        "colab_type": "code",
        "colab": {
          "base_uri": "https://localhost:8080/",
          "height": 34
        },
        "outputId": "976c6676-cf52-4a1f-e44d-f780d39b0a33"
      },
      "cell_type": "code",
      "source": [
        "\"{0} love {1}......{2}\".format(\"I\",\"listening\",\"classical Music\")"
      ],
      "execution_count": 17,
      "outputs": [
        {
          "output_type": "execute_result",
          "data": {
            "text/plain": [
              "'I love listening......classical Music'"
            ]
          },
          "metadata": {
            "tags": []
          },
          "execution_count": 17
        }
      ]
    },
    {
      "metadata": {
        "id": "8sQ4C9KUaWr8",
        "colab_type": "text"
      },
      "cell_type": "markdown",
      "source": [
        "使用%"
      ]
    },
    {
      "metadata": {
        "id": "CPB2OjxhYb1t",
        "colab_type": "code",
        "colab": {
          "base_uri": "https://localhost:8080/",
          "height": 34
        },
        "outputId": "fcf27d46-a9c9-4457-a8f9-3eb427c2dfe7"
      },
      "cell_type": "code",
      "source": [
        "'%c' % 97\n"
      ],
      "execution_count": 16,
      "outputs": [
        {
          "output_type": "execute_result",
          "data": {
            "text/plain": [
              "'a'"
            ]
          },
          "metadata": {
            "tags": []
          },
          "execution_count": 16
        }
      ]
    },
    {
      "metadata": {
        "id": "dLHiAyU_YUm7",
        "colab_type": "code",
        "colab": {
          "base_uri": "https://localhost:8080/",
          "height": 34
        },
        "outputId": "25dde2ea-fbcd-415b-e7ab-7ca012bbed42"
      },
      "cell_type": "code",
      "source": [
        "'%d 八進位是 %o, 十六進位是 %x' % (97,97, 97)"
      ],
      "execution_count": 14,
      "outputs": [
        {
          "output_type": "execute_result",
          "data": {
            "text/plain": [
              "'97 八進位是 141, 十六進位是 61'"
            ]
          },
          "metadata": {
            "tags": []
          },
          "execution_count": 14
        }
      ]
    }
  ]
}